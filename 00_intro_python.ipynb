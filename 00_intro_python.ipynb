{
  "nbformat": 4,
  "nbformat_minor": 0,
  "metadata": {
    "colab": {
      "provenance": [],
      "authorship_tag": "ABX9TyOsm9V/SoZV24i9H/MbRTxo",
      "include_colab_link": true
    },
    "kernelspec": {
      "name": "python3",
      "display_name": "Python 3"
    },
    "language_info": {
      "name": "python"
    }
  },
  "cells": [
    {
      "cell_type": "markdown",
      "metadata": {
        "id": "view-in-github",
        "colab_type": "text"
      },
      "source": [
        "<a href=\"https://colab.research.google.com/github/alishba-ansari35/Assignment-4/blob/main/00_intro_python.ipynb\" target=\"_parent\"><img src=\"https://colab.research.google.com/assets/colab-badge.svg\" alt=\"Open In Colab\"/></a>"
      ]
    },
    {
      "cell_type": "code",
      "execution_count": 34,
      "metadata": {
        "colab": {
          "base_uri": "https://localhost:8080/"
        },
        "id": "6e1lxe7__Pi0",
        "outputId": "1f701337-be49-4fb3-e04e-08b3dc12342a"
      },
      "outputs": [
        {
          "output_type": "stream",
          "name": "stdout",
          "text": [
            "01_add_two_numbers\n",
            "Enter your first number10\n",
            "Enter your second number20\n",
            "The total sum of 10 and 20 is 30\n"
          ]
        }
      ],
      "source": [
        "print(\"01_add_two_numbers\")\n",
        "\n",
        "def add():\n",
        "  first_number = int(input(\"Enter your first number\"))\n",
        "  Second_number = int(input(\"Enter your second number\"))\n",
        "  final = int(first_number + Second_number)\n",
        "  print(f'The total sum of {first_number} and {Second_number} is {final}')\n",
        "\n",
        "if __name__ == '__main__':\n",
        "    add()"
      ]
    },
    {
      "cell_type": "code",
      "source": [
        "print(\"02_agreement_bot\")\n",
        "\n",
        "def bot():\n",
        "  animal = str(input(\"What's your favorite animal?\"))\n",
        "  print(f'My favourite animal is {animal}.')\n",
        "\n",
        "if __name__ == '__main__':\n",
        "    bot()"
      ],
      "metadata": {
        "colab": {
          "base_uri": "https://localhost:8080/"
        },
        "id": "wVdtBaS1J7G2",
        "outputId": "4ad6e919-cb3c-4cfe-b0df-23513915aa1a"
      },
      "execution_count": 43,
      "outputs": [
        {
          "output_type": "stream",
          "name": "stdout",
          "text": [
            "02_agreement_bot\n",
            "What's your favorite animal?cow\n",
            "My favourite animal is cow .\n"
          ]
        }
      ]
    },
    {
      "cell_type": "code",
      "source": [
        "print(\"03_fahrenheit_to_celsius\")\n",
        "\n",
        "def temp():\n",
        "  print(\"This code is converting fahrenheit to celsius\")\n",
        "  degree_fahrenheit = float(input(\"Enter a fahrenhiet degree\" ))\n",
        "  celsius_degree = (degree_fahrenheit - 32) * 5.0/9.0\n",
        "  print(f'Temperature {degree_fahrenheit} F = {celsius_degree} C.')\n",
        "\n",
        "if __name__ == '__main__':\n",
        "    temp()"
      ],
      "metadata": {
        "colab": {
          "base_uri": "https://localhost:8080/"
        },
        "id": "1xbgRjyKMZZo",
        "outputId": "a7b2946d-85bd-449e-d2b3-8050cd5feacd"
      },
      "execution_count": 48,
      "outputs": [
        {
          "output_type": "stream",
          "name": "stdout",
          "text": [
            "03_fahrenheit_to_celsius\n",
            "This code is converting fahrenheit to celsius\n",
            "Enter a fahrenhiet degree100\n",
            "Temperature 100.0 F = 37.77777777777778 C.\n"
          ]
        }
      ]
    },
    {
      "cell_type": "code",
      "source": [
        "print(\"04_how_old_are_they\")\n",
        "\n",
        "def add_ages():\n",
        "  anthon:int = 21 # anthon agge is given 21 year old\n",
        "  beth:int = 6 + anthon #beth age is given 6 year old.now we add a anthon age in beth age.so the beth age is 27 because we add a anthon age in beth age.\n",
        "  chen:int = 20 + beth # chen age is given 20 year old.now we add a beth age in chen age.so the chen age is 47 because we add a beth age in chen age.\n",
        "  drew:int = chen + anthon # chen age is 47 and anthon age is 21 so the drew age is 68.\n",
        "  ethan:int = chen # chen is 47 so the ethan age is 47\n",
        "\n",
        "  print(\"Anthon is \" + str(anthon))\n",
        "  print(\"Beth is \" + str(beth))\n",
        "  print(\"Chen is \" + str(chen))\n",
        "  print(\"Drew is \" + str(drew))\n",
        "  print(\"Ethan is \" + str(ethan))\n",
        "\n",
        "if __name__ == '__main__':\n",
        "    add_ages()"
      ],
      "metadata": {
        "colab": {
          "base_uri": "https://localhost:8080/"
        },
        "id": "k0dVnqAJQ1Bt",
        "outputId": "cf890522-81b8-4817-d58a-a2b0e45057b8"
      },
      "execution_count": 50,
      "outputs": [
        {
          "output_type": "stream",
          "name": "stdout",
          "text": [
            "04_how_old_are_they\n",
            "Anthon is 21\n",
            "Beth is 27\n",
            "Chen is 47\n",
            "Drew is 68\n",
            "Ethan is 47\n"
          ]
        }
      ]
    },
    {
      "cell_type": "code",
      "source": [
        "print(\"05_triangle_perimeter\")\n",
        "\n",
        "def triangle():\n",
        "  print(\"This code is about triangle of a perimeter\")\n",
        "\n",
        "  side1 = float(input(\"Enter your first side no triangle \"))\n",
        "  side2 = float(input(\"enter your second side no triangle \"))\n",
        "  side3 = float(input(\"Enter your third side no triangle \"))\n",
        "  total = float(side1 + side2 + side3)\n",
        "  print(f'The perimeter of a Triangle is {total}.')\n",
        "\n",
        "if __name__ == '__main__':\n",
        "    triangle()"
      ],
      "metadata": {
        "colab": {
          "base_uri": "https://localhost:8080/"
        },
        "id": "Btjg_ZxsW-0I",
        "outputId": "b5a94a06-05a9-4369-963b-c15b7c34ee38"
      },
      "execution_count": 54,
      "outputs": [
        {
          "output_type": "stream",
          "name": "stdout",
          "text": [
            "05_triangle_perimeter\n",
            "This code is about triangle of a perimeter\n",
            "Enter your first side no triangle 10\n",
            "enter your second side no triangle 20\n",
            "Enter your third side no triangle 40\n",
            "The perimeter of a Triangle is 70.0.\n"
          ]
        }
      ]
    },
    {
      "cell_type": "code",
      "source": [
        "print(\"06_square_number\")\n",
        "\n",
        "def square():\n",
        "  print(\"This code is about square of a given number\")\n",
        "  num = int(input(\"Type a number and i will give you a square value: \")) # Make sure to cast the input to a float so we can do math with it!\n",
        "  print(f'The square of {num} is {num ** 2}') # num * num is equivalent to num ** 2. The ** operator raises something to a power!\n",
        "\n",
        "if __name__ == '__main__':\n",
        "    square()"
      ],
      "metadata": {
        "colab": {
          "base_uri": "https://localhost:8080/"
        },
        "id": "pPpa8ab1Zw8n",
        "outputId": "6c561c19-1c5e-4ba4-cf33-3886d5f53be3"
      },
      "execution_count": 63,
      "outputs": [
        {
          "output_type": "stream",
          "name": "stdout",
          "text": [
            "06_square_number\n",
            "This code is about square of a given number\n",
            "Type a number and i will give you a square vlue: 9\n",
            "The square of 9 is 81\n"
          ]
        }
      ]
    }
  ]
}